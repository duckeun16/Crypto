{
 "cells": [
  {
   "cell_type": "code",
   "execution_count": 849,
   "id": "cc17c180-8ad5-4000-8543-ba6f52b432bd",
   "metadata": {},
   "outputs": [],
   "source": [
    "import binance_executor as bex\n",
    "import importlib\n",
    "importlib.reload(bex);"
   ]
  },
  {
   "cell_type": "markdown",
   "id": "1ce2cff1-686a-4718-b4be-73de9c4be079",
   "metadata": {},
   "source": [
    "### Top of the orderbook prices and limit order price determination"
   ]
  },
  {
   "cell_type": "code",
   "execution_count": 783,
   "id": "76ce6a7e-09a7-4158-9872-e5df069ff90d",
   "metadata": {},
   "outputs": [
    {
     "data": {
      "text/plain": [
       "(0.9998, 0.9999)"
      ]
     },
     "execution_count": 783,
     "metadata": {},
     "output_type": "execute_result"
    }
   ],
   "source": [
    "best_bid, best_ask = bex.get_bba_price(market_type='SPOT', symbol='USDCUSDT')\n",
    "best_bid, best_ask"
   ]
  },
  {
   "cell_type": "code",
   "execution_count": 785,
   "id": "3a9cffdb-5a20-496f-8a5e-3f79d829c8cc",
   "metadata": {},
   "outputs": [
    {
     "name": "stdout",
     "output_type": "stream",
     "text": [
      "Auto-calculated limit price at mid (if-available): 2441.7\n",
      "\n",
      "best_bid: 2441.7 \n",
      "mid-point: 2441.705\n",
      "best_ask: 2441.71\n",
      "\n",
      "final limit ordre price: 2441.7\n",
      "- mid-point price, decimal precision rounded with reference to quoted price\n",
      "- ensured rounded price do not cross the book \n",
      "\n"
     ]
    }
   ],
   "source": [
    "price, best_bid, best_ask = bex.get_mid_limit_price(market_type='SPOT', symbol='ETHUSDT', side='BUY')\n",
    "print(f\"\"\"\n",
    "best_bid: {best_bid} \n",
    "mid-point: {(best_bid + best_ask) / 2}\n",
    "best_ask: {best_ask}\n",
    "\n",
    "final limit ordre price: {price}\n",
    "- mid-point price, decimal precision rounded with reference to quoted price\n",
    "- ensured rounded price do not cross the book \n",
    "\"\"\")"
   ]
  },
  {
   "cell_type": "code",
   "execution_count": 816,
   "id": "3569f254-5004-4657-b4e3-4b4ddb9d6859",
   "metadata": {},
   "outputs": [
    {
     "data": {
      "text/html": [
       "<div>\n",
       "<style scoped>\n",
       "    .dataframe tbody tr th:only-of-type {\n",
       "        vertical-align: middle;\n",
       "    }\n",
       "\n",
       "    .dataframe tbody tr th {\n",
       "        vertical-align: top;\n",
       "    }\n",
       "\n",
       "    .dataframe thead th {\n",
       "        text-align: right;\n",
       "    }\n",
       "</style>\n",
       "<table border=\"1\" class=\"dataframe\">\n",
       "  <thead>\n",
       "    <tr style=\"text-align: right;\">\n",
       "      <th></th>\n",
       "      <th>asset</th>\n",
       "      <th>free</th>\n",
       "      <th>locked</th>\n",
       "    </tr>\n",
       "  </thead>\n",
       "  <tbody>\n",
       "    <tr>\n",
       "      <th>4</th>\n",
       "      <td>USDC</td>\n",
       "      <td>200.08369300</td>\n",
       "      <td>0.00000000</td>\n",
       "    </tr>\n",
       "  </tbody>\n",
       "</table>\n",
       "</div>"
      ],
      "text/plain": [
       "  asset          free      locked\n",
       "4  USDC  200.08369300  0.00000000"
      ]
     },
     "execution_count": 816,
     "metadata": {},
     "output_type": "execute_result"
    }
   ],
   "source": [
    "# Balances\n",
    "spot_balanaces = pd.DataFrame(bex.get_spot_balances())\n",
    "futures_balances = pd.DataFrame(bex.get_futures_balances())\n",
    "\n",
    "spot_balanaces[spot_balanaces.asset == 'USDC']"
   ]
  },
  {
   "cell_type": "markdown",
   "id": "8cb6e0e9-5d81-4512-9298-a9df2fe05943",
   "metadata": {},
   "source": [
    "### Executor command functions"
   ]
  },
  {
   "cell_type": "code",
   "execution_count": 826,
   "id": "fc09254a-8d69-4191-92e4-24646f7536b3",
   "metadata": {},
   "outputs": [
    {
     "name": "stdout",
     "output_type": "stream",
     "text": [
      "Reject Spot SELL Limit: price 0.98 crosses best bid 0.9998\n"
     ]
    }
   ],
   "source": [
    "# LIMIT prevented from crossing orderbook (Post-only)\n",
    "bex.submit_spot_order(\n",
    "    symbol='USDCUSDT', \n",
    "    side='SELL',\n",
    "    quantity=10,\n",
    "    order_type='LIMIT',\n",
    "    price=0.98,\n",
    "    time_in_force='GTC',\n",
    "    cancel_existing=True\n",
    ")"
   ]
  },
  {
   "cell_type": "code",
   "execution_count": 832,
   "id": "855b4a36-027e-4bdf-a615-4b2fd92f3759",
   "metadata": {},
   "outputs": [
    {
     "name": "stdout",
     "output_type": "stream",
     "text": [
      "Reject Futures BUY Limit: price 2500 crosses best ask 2441.44\n"
     ]
    }
   ],
   "source": [
    "# LIMIT prevented from crossing orderbook (Post-only)\n",
    "bex.submit_fut_order(\n",
    "    symbol='ETHUSDT', \n",
    "    side='BUY',\n",
    "    quantity=0.01, # perp contract size quantity (1:1)\n",
    "    order_type='LIMIT',\n",
    "    price=2500,\n",
    "    time_in_force='GTC',\n",
    "    cancel_existing=True,\n",
    "    position_side='LONG' # hedge-mode\n",
    ")"
   ]
  },
  {
   "cell_type": "code",
   "execution_count": 824,
   "id": "48a5561f-2b5e-4b16-9b54-85df72ad1b84",
   "metadata": {},
   "outputs": [
    {
     "name": "stdout",
     "output_type": "stream",
     "text": [
      "Cancelled existing SPOT limit order 999863829 for USDCUSDT\n"
     ]
    }
   ],
   "source": [
    "# cancel spot order for a symbol\n",
    "bex.cancel_existing_orders('USDCUSDT', 'SPOT')"
   ]
  },
  {
   "cell_type": "code",
   "execution_count": 830,
   "id": "5b999147-e713-4387-8de8-708eb2487fb2",
   "metadata": {},
   "outputs": [
    {
     "name": "stdout",
     "output_type": "stream",
     "text": [
      "Cancelled existing FUT limit order 8389765908251359792 for ETHUSDT\n"
     ]
    }
   ],
   "source": [
    "# cancel futures order for a symbol\n",
    "bex.cancel_existing_orders('ETHUSDT', 'FUT')"
   ]
  },
  {
   "cell_type": "code",
   "execution_count": 836,
   "id": "6c1166dc-9445-4870-9f93-15295d66b6b9",
   "metadata": {
    "scrolled": true
   },
   "outputs": [],
   "source": [
    "# close all open futures position for a symbol\n",
    "bex.close_all_positions(symbol='ETHUSDT')"
   ]
  },
  {
   "cell_type": "markdown",
   "id": "c77e4e1e-769d-4d99-a818-13778ce6d1dc",
   "metadata": {},
   "source": [
    "### Executor request to target based on current balances"
   ]
  },
  {
   "cell_type": "code",
   "execution_count": 842,
   "id": "b79f2d43-c2fa-48ad-a8bd-9cb37df3e3e9",
   "metadata": {},
   "outputs": [
    {
     "name": "stdout",
     "output_type": "stream",
     "text": [
      "Auto-calculated limit price at mid (if-available): 2442.3\n"
     ]
    },
    {
     "data": {
      "text/plain": [
       "{'symbol': 'ETHUSDT', 'side': 'BUY', 'quantity': 0.0819, 'price': 2442.3}"
      ]
     },
     "metadata": {},
     "output_type": "display_data"
    },
    {
     "name": "stdout",
     "output_type": "stream",
     "text": [
      "Reject Spot BUY Limit: price 2500 crosses best ask 2442.52\n"
     ]
    }
   ],
   "source": [
    "order_request = {\n",
    "    'symbol': 'ETHUSDT', \n",
    "    'target_quantity': None,\n",
    "    'target_notional': 200, # specifying notional target\n",
    "    'market_type': 'SPOT', \n",
    "    'tol_pct': 0.005 # 0.5% tolerance of target_qty\n",
    "}\n",
    "\n",
    "result = bex.compute_execution_delta(order_request)\n",
    "display(result)\n",
    "\n",
    "bex.submit_spot_order(\n",
    "    symbol=result['symbol'], \n",
    "    side=result['side'],\n",
    "    quantity=result['quantity'],\n",
    "    order_type='LIMIT',\n",
    "    price=2500,\n",
    "    time_in_force='GTC',\n",
    "    cancel_existing=True\n",
    ")\n",
    "#bex.cancel_existing_orders('ETHUSDT', 'SPOT')"
   ]
  },
  {
   "cell_type": "code",
   "execution_count": 853,
   "id": "80b5c0bd-781f-49c5-ac3c-8365876e3fd6",
   "metadata": {},
   "outputs": [
    {
     "name": "stdout",
     "output_type": "stream",
     "text": [
      "Auto-calculated limit price at mid (if-available): 2441.86\n"
     ]
    },
    {
     "data": {
      "text/plain": [
       "{'symbol': 'ETHUSDT', 'side': 'BUY', 'quantity': 0.082, 'price': 2441.86}"
      ]
     },
     "metadata": {},
     "output_type": "display_data"
    },
    {
     "name": "stdout",
     "output_type": "stream",
     "text": [
      "Reject Futures BUY Limit: price 2500 crosses best ask 2441.87\n"
     ]
    }
   ],
   "source": [
    "order_request = {\n",
    "    'symbol': 'ETHUSDT', \n",
    "    'target_quantity': None,\n",
    "    'target_notional': 200,\n",
    "    'market_type': 'FUT', \n",
    "    'tol_pct': 0.005 # 0.5% tolerance of target_qty\n",
    "}\n",
    "\n",
    "result = bex.compute_execution_delta(order_request)\n",
    "display(result)\n",
    "\n",
    "bex.submit_fut_order(\n",
    "    symbol=result['symbol'], \n",
    "    side=result['side'],\n",
    "    quantity=result['quantity'],\n",
    "    order_type='LIMIT',\n",
    "    price=2500,\n",
    "    time_in_force='GTC',\n",
    "    cancel_existing=True,\n",
    "    position_side='LONG' # hedge-mode\n",
    ")\n",
    "#bex.cancel_existing_orders('ETHUSDT', 'FUT')"
   ]
  }
 ],
 "metadata": {
  "kernelspec": {
   "display_name": "Python 3 (ipykernel)",
   "language": "python",
   "name": "python3"
  },
  "language_info": {
   "codemirror_mode": {
    "name": "ipython",
    "version": 3
   },
   "file_extension": ".py",
   "mimetype": "text/x-python",
   "name": "python",
   "nbconvert_exporter": "python",
   "pygments_lexer": "ipython3",
   "version": "3.11.7"
  }
 },
 "nbformat": 4,
 "nbformat_minor": 5
}
